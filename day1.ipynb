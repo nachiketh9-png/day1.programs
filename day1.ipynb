{
  "nbformat": 4,
  "nbformat_minor": 0,
  "metadata": {
    "colab": {
      "provenance": []
    },
    "kernelspec": {
      "name": "python3",
      "display_name": "Python 3"
    },
    "language_info": {
      "name": "python"
    }
  },
  "cells": [
    {
      "cell_type": "markdown",
      "source": [
        "add two numbers"
      ],
      "metadata": {
        "id": "QoN3Elt39lOA"
      }
    },
    {
      "cell_type": "code",
      "source": [
        "a=int(input(\"enter the first number:\"))\n",
        "b=int(input(\"enter the second number:\"))\n",
        "c=a-b\n",
        "print(c)\n"
      ],
      "metadata": {
        "colab": {
          "base_uri": "https://localhost:8080/"
        },
        "id": "pWB8ilFD-VKX",
        "outputId": "e753f8f5-078d-4346-9952-374747d3876c"
      },
      "execution_count": null,
      "outputs": [
        {
          "output_type": "stream",
          "name": "stdout",
          "text": [
            "enter the first number:8\n",
            "enter the second number:4\n",
            "4\n"
          ]
        }
      ]
    },
    {
      "cell_type": "code",
      "source": [
        "a=int(input(\"enter the first number:\"))\n",
        "b=int(input(\"enter the second number:\"))\n",
        "c=a+b\n",
        "print(c)"
      ],
      "metadata": {
        "colab": {
          "base_uri": "https://localhost:8080/"
        },
        "id": "m3Q4ihOo9oN4",
        "outputId": "95bf89bb-c970-4578-85a6-3f611a01ade7"
      },
      "execution_count": null,
      "outputs": [
        {
          "output_type": "stream",
          "name": "stdout",
          "text": [
            "enter the first number:9\n",
            "enter the second number:8\n",
            "17\n"
          ]
        }
      ]
    },
    {
      "cell_type": "code",
      "source": [
        "a=int(input(\"enter the number: \"))\n",
        "b=int(input(\"enter the number: \"))\n",
        "c=a/b\n",
        "print(c)\n"
      ],
      "metadata": {
        "colab": {
          "base_uri": "https://localhost:8080/"
        },
        "id": "ybsZy_KEAOyv",
        "outputId": "2d978bce-0d3c-44cf-8545-c7a741fc92c0"
      },
      "execution_count": null,
      "outputs": [
        {
          "output_type": "stream",
          "name": "stdout",
          "text": [
            "enter the number: 2\n",
            "enter the number: 24\n",
            "0.08333333333333333\n"
          ]
        }
      ]
    },
    {
      "cell_type": "code",
      "source": [
        "a=int(input(\"enter the number: \"))\n",
        "b=int(input(\"enter the number: \"))\n",
        "print(a+b)\n",
        "print(a*b)\n",
        "print(a/b)\n",
        "print(a-b)\n",
        "print(a%b)\n",
        "print(a**b)\n"
      ],
      "metadata": {
        "colab": {
          "base_uri": "https://localhost:8080/"
        },
        "id": "-aeqOLG5Azbe",
        "outputId": "bba9e084-03f2-4981-d1a0-125e7f37ac92"
      },
      "execution_count": null,
      "outputs": [
        {
          "output_type": "stream",
          "name": "stdout",
          "text": [
            "enter the number: 20\n",
            "enter the number: 20\n",
            "40\n",
            "400\n",
            "1.0\n",
            "0\n",
            "0\n",
            "104857600000000000000000000\n"
          ]
        }
      ]
    },
    {
      "cell_type": "code",
      "source": [
        "a=int(input(\"enter the number: \"))\n",
        "pi=3.14\n",
        "area= pi*a**2\n",
        "print(\"area of circle :\", area)"
      ],
      "metadata": {
        "colab": {
          "base_uri": "https://localhost:8080/"
        },
        "id": "dN0-LqT1D0ku",
        "outputId": "b6df63d4-37a1-461f-ba10-9fb44c92ce2d"
      },
      "execution_count": null,
      "outputs": [
        {
          "output_type": "stream",
          "name": "stdout",
          "text": [
            "enter the number: 20\n",
            "area of circle : 1256.0\n"
          ]
        }
      ]
    },
    {
      "cell_type": "code",
      "source": [
        "p=int(input(\"enter the principle amount\"))\n",
        "t=int(input(\"enter the time\"))\n",
        "r=float(input(\"enter the rate\"))\n",
        "si=(p*t*r)/100\n",
        "print(\"simple interest\",si)"
      ],
      "metadata": {
        "colab": {
          "base_uri": "https://localhost:8080/"
        },
        "id": "x8GHCil8Ei5e",
        "outputId": "79287ae8-a746-4067-acbd-7edf56fa72f5"
      },
      "execution_count": null,
      "outputs": [
        {
          "output_type": "stream",
          "name": "stdout",
          "text": [
            "enter the principle amount20000\n",
            "enter the time30\n",
            "enter the rate5\n",
            "simple interest 30000.0\n"
          ]
        }
      ]
    },
    {
      "cell_type": "code",
      "source": [
        "l=int(input(\" enter the length \"))\n",
        "b=int(input(\" enter the breadth \"))\n",
        "area=l*b\n",
        "print(\"area of rectangle\",area)"
      ],
      "metadata": {
        "id": "XHe6vWH5H729",
        "colab": {
          "base_uri": "https://localhost:8080/"
        },
        "outputId": "77f3b844-d0c5-4ee3-b433-05ab81686dbc"
      },
      "execution_count": null,
      "outputs": [
        {
          "output_type": "stream",
          "name": "stdout",
          "text": [
            " enter the length 7\n",
            " enter the breadth 7\n",
            "area of rectangle 49\n"
          ]
        }
      ]
    },
    {
      "cell_type": "code",
      "source": [
        "minutes=int(input(\"enter the minutes\"))\n",
        "hours=minutes//60\n",
        "print(\"hours\",hours)\n"
      ],
      "metadata": {
        "colab": {
          "base_uri": "https://localhost:8080/"
        },
        "collapsed": true,
        "id": "ZBt0PViDI_GM",
        "outputId": "02e5f980-582b-4865-ad37-6fe97c076f0e"
      },
      "execution_count": null,
      "outputs": [
        {
          "output_type": "stream",
          "name": "stdout",
          "text": [
            "enter the minutes55\n",
            "hours 0\n"
          ]
        }
      ]
    }
  ]
}